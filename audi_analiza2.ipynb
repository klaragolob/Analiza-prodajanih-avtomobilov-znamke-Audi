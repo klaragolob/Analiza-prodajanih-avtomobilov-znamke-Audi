{
 "cells": [
  {
   "cell_type": "code",
   "execution_count": 3,
   "metadata": {
    "collapsed": true
   },
   "outputs": [],
   "source": [
    "import pandas as pd"
   ]
  },
  {
   "cell_type": "markdown",
   "metadata": {},
   "source": [
    "# Analiza prodajanih avtomobilov znamke Audi\n",
    "\n",
    "Iz spletne strani https://www.avto.net sem zajela naslednje podatke o vseh vozilih znamke Audi, ki se tam prodajajo:\n",
    "\n",
    "* ime vozila \n",
    "* prva registracija\n",
    "* prvoženi kilometri\n",
    "* tip motorja \n",
    "* cena \n",
    "\n",
    "Ti podatki so prikazani v spodnji tabeli.\n"
   ]
  },
  {
   "cell_type": "code",
   "execution_count": 4,
   "metadata": {},
   "outputs": [
    {
     "data": {
      "text/html": [
       "<div>\n",
       "<style>\n",
       "    .dataframe thead tr:only-child th {\n",
       "        text-align: right;\n",
       "    }\n",
       "\n",
       "    .dataframe thead th {\n",
       "        text-align: left;\n",
       "    }\n",
       "\n",
       "    .dataframe tbody tr th {\n",
       "        vertical-align: top;\n",
       "    }\n",
       "</style>\n",
       "<table border=\"1\" class=\"dataframe\">\n",
       "  <thead>\n",
       "    <tr style=\"text-align: right;\">\n",
       "      <th></th>\n",
       "      <th>Ime</th>\n",
       "      <th>Prva registracija</th>\n",
       "      <th>Prevozeni km</th>\n",
       "      <th>Tip motorja</th>\n",
       "      <th>Cena</th>\n",
       "      <th>Unnamed: 6</th>\n",
       "    </tr>\n",
       "    <tr>\n",
       "      <th>Indeks</th>\n",
       "      <th></th>\n",
       "      <th></th>\n",
       "      <th></th>\n",
       "      <th></th>\n",
       "      <th></th>\n",
       "      <th></th>\n",
       "    </tr>\n",
       "  </thead>\n",
       "  <tbody>\n",
       "    <tr>\n",
       "      <th>12795163</th>\n",
       "      <td>b'Audi A4 Avant 1.9 TDI. servisna knjiga p...'</td>\n",
       "      <td>2006</td>\n",
       "      <td>228000 km</td>\n",
       "      <td>diesel motor</td>\n",
       "      <td>5.890</td>\n",
       "      <td>NaN</td>\n",
       "    </tr>\n",
       "    <tr>\n",
       "      <th>12795041</th>\n",
       "      <td>b'Audi A4 1.8'</td>\n",
       "      <td>1998</td>\n",
       "      <td>305000 km</td>\n",
       "      <td>bencinski motor</td>\n",
       "      <td>1.200</td>\n",
       "      <td>NaN</td>\n",
       "    </tr>\n",
       "    <tr>\n",
       "      <th>12795036</th>\n",
       "      <td>b'Audi A6 2.0 TDI ULTRA ZRA\\xc3\\x88NO+KAMERA+U...</td>\n",
       "      <td>2014</td>\n",
       "      <td>150000 km</td>\n",
       "      <td>diesel motor</td>\n",
       "      <td>22.280</td>\n",
       "      <td>NaN</td>\n",
       "    </tr>\n",
       "    <tr>\n",
       "      <th>12794988</th>\n",
       "      <td>b'Audi A6 2.0 TDI'</td>\n",
       "      <td>2005</td>\n",
       "      <td>264000 km</td>\n",
       "      <td>diesel motor</td>\n",
       "      <td>6.500</td>\n",
       "      <td>NaN</td>\n",
       "    </tr>\n",
       "    <tr>\n",
       "      <th>...</th>\n",
       "      <td>...</td>\n",
       "      <td>...</td>\n",
       "      <td>...</td>\n",
       "      <td>...</td>\n",
       "      <td>...</td>\n",
       "      <td>...</td>\n",
       "    </tr>\n",
       "    <tr>\n",
       "      <th>12793679</th>\n",
       "      <td>b'Audi A6 Avant 2.0 TDI - SPORT PAKET - NA...'</td>\n",
       "      <td>2010</td>\n",
       "      <td>186400 km</td>\n",
       "      <td>diesel motor</td>\n",
       "      <td>10.999</td>\n",
       "      <td>NaN</td>\n",
       "    </tr>\n",
       "    <tr>\n",
       "      <th>12793669</th>\n",
       "      <td>b'Audi Q3 2.0 TDI NAVI-ALU-ODLI\\xc3\\x88EN...'</td>\n",
       "      <td>2012</td>\n",
       "      <td>159827 km</td>\n",
       "      <td>diesel motor</td>\n",
       "      <td>15.750</td>\n",
       "      <td>NaN</td>\n",
       "    </tr>\n",
       "    <tr>\n",
       "      <th>12793657</th>\n",
       "      <td>b'Audi A4 2.0 TDI'</td>\n",
       "      <td>2005</td>\n",
       "      <td>203000 km</td>\n",
       "      <td>diesel motor</td>\n",
       "      <td>4.600</td>\n",
       "      <td>NaN</td>\n",
       "    </tr>\n",
       "    <tr>\n",
       "      <th>12793648</th>\n",
       "      <td>b'Audi A4 1.9 TDI'</td>\n",
       "      <td>2002</td>\n",
       "      <td>340000 km</td>\n",
       "      <td>diesel motor</td>\n",
       "      <td>2.950</td>\n",
       "      <td>NaN</td>\n",
       "    </tr>\n",
       "  </tbody>\n",
       "</table>\n",
       "<p>1529 rows × 6 columns</p>\n",
       "</div>"
      ],
      "text/plain": [
       "                                                        Ime  \\\n",
       "Indeks                                                        \n",
       "12795163     b'Audi A4 Avant 1.9 TDI. servisna knjiga p...'   \n",
       "12795041                                     b'Audi A4 1.8'   \n",
       "12795036  b'Audi A6 2.0 TDI ULTRA ZRA\\xc3\\x88NO+KAMERA+U...   \n",
       "12794988                                 b'Audi A6 2.0 TDI'   \n",
       "...                                                     ...   \n",
       "12793679     b'Audi A6 Avant 2.0 TDI - SPORT PAKET - NA...'   \n",
       "12793669      b'Audi Q3 2.0 TDI NAVI-ALU-ODLI\\xc3\\x88EN...'   \n",
       "12793657                                 b'Audi A4 2.0 TDI'   \n",
       "12793648                                 b'Audi A4 1.9 TDI'   \n",
       "\n",
       "          Prva registracija Prevozeni km      Tip motorja    Cena  Unnamed: 6  \n",
       "Indeks                                                                         \n",
       "12795163               2006    228000 km     diesel motor   5.890         NaN  \n",
       "12795041               1998    305000 km  bencinski motor   1.200         NaN  \n",
       "12795036               2014    150000 km     diesel motor  22.280         NaN  \n",
       "12794988               2005    264000 km     diesel motor   6.500         NaN  \n",
       "...                     ...          ...              ...     ...         ...  \n",
       "12793679               2010    186400 km     diesel motor  10.999         NaN  \n",
       "12793669               2012    159827 km     diesel motor  15.750         NaN  \n",
       "12793657               2005    203000 km     diesel motor   4.600         NaN  \n",
       "12793648               2002    340000 km     diesel motor   2.950         NaN  \n",
       "\n",
       "[1529 rows x 6 columns]"
      ]
     },
     "execution_count": 4,
     "metadata": {},
     "output_type": "execute_result"
    }
   ],
   "source": [
    "pd.options.display.max_rows = 8 # Nastavitev maks. št. prikazanih vrstic v tabeli\n",
    "audiji = pd.read_csv('audi_data.csv', index_col ='Indeks')\n",
    "audiji"
   ]
  },
  {
   "cell_type": "markdown",
   "metadata": {},
   "source": [
    "## UVOD \n",
    "\n",
    "Pri kupovanju rabljenih in novih avtomobilov skoraj vsi pogledajo ponudbo tudi na spletni strani https://www.avto.net. In ker je znamka Audi ena izmed bolj priljubljenih znamk med slovenskim prebivalstvom sem se odločila da bom analizirala prav to. Verjetno so najpomembnejše lastnosti, na podlagi katerih se odločimo da bomo kupili prav to vozilo, cena, starost vozila, prevoženi kilometri in tip motorja. Seveda so pomembne tudi druge lastnosti, a za okvirno analizo bo tudi to dovolj."
   ]
  },
  {
   "cell_type": "markdown",
   "metadata": {},
   "source": [
    "## TIP MOTORJA\n",
    "\n",
    "Vozila imajo več tipov motorja. Pri Audijih v tabeli so to: dizel motor, bencinski motor in bencinski motor predelan na plin - bencinski motor + plin. \n",
    "Najprej si poglejmo katerih tipov motorja se prodaja največ."
   ]
  },
  {
   "cell_type": "code",
   "execution_count": 5,
   "metadata": {},
   "outputs": [
    {
     "data": {
      "text/plain": [
       "<matplotlib.axes._subplots.AxesSubplot at 0x10a6c3b00>"
      ]
     },
     "execution_count": 5,
     "metadata": {},
     "output_type": "execute_result"
    }
   ],
   "source": [
    "audiji.groupby('Tip motorja').size().plot(kind='bar')\n"
   ]
  },
  {
   "cell_type": "markdown",
   "metadata": {},
   "source": [
    "Graf pokaže da da se daleč največ prodaja avtomobile z diesel motorjem, in (kot pričakovano) najmanj avtomobilov na plin. "
   ]
  },
  {
   "cell_type": "code",
   "execution_count": 6,
   "metadata": {},
   "outputs": [
    {
     "data": {
      "text/plain": [
       "Tip motorja\n",
       "bencinski motor           4.780000\n",
       "bencinski motor + plin    4.175000\n",
       "diesel motor              9.455535\n",
       "Name: Cena, dtype: float64"
      ]
     },
     "execution_count": 6,
     "metadata": {},
     "output_type": "execute_result"
    }
   ],
   "source": [
    "audiji.groupby('Tip motorja').mean()['Cena']"
   ]
  },
  {
   "cell_type": "code",
   "execution_count": 12,
   "metadata": {},
   "outputs": [
    {
     "data": {
      "text/plain": [
       "<matplotlib.axes._subplots.AxesSubplot at 0x111b34e10>"
      ]
     },
     "execution_count": 12,
     "metadata": {},
     "output_type": "execute_result"
    },
    {
     "data": {
      "image/png": "[encoded data removed]",
      "text/plain": [
       "<matplotlib.figure.Figure at 0x111b343c8>"
      ]
     },
     "metadata": {},
     "output_type": "display_data"
    }
   ],
   "source": [
    "audiji.groupby('Tip motorja').mean()['Cena'].plot(kind='bar')"
   ]
  },
  {
   "cell_type": "markdown",
   "metadata": {},
   "source": [
    "Iz zgornjega izračuna in grafa vidimo, da se najdražji avtomobili z diesel motorjem, potem bencinski in nato avtomobili na plin. Najbolj ugoden za nakup je zato avto na plin, saj je v povprečju najcenejši, poleg tega pa je tudi sam plin zelo poceni. Če pa izbirate avto z drugačnim tipom motorja boste za avto z diesel motorjem odšteli več denarja, a boste imeli cenejše gorivo kot pri avtu z bencinskim motorjem."
   ]
  },
  {
   "cell_type": "markdown",
   "metadata": {},
   "source": [
    "## PRVA REGISTRACIJA (starost avtomobila)\n",
    " \n",
    "Starejša vozla bodo imela verjetno nižje cene in več prevoženih kilometrov. Če to res drži se lahko prepričamo z naslednjim izračunom."
   ]
  },
  {
   "cell_type": "code",
   "execution_count": 35,
   "metadata": {},
   "outputs": [
    {
     "data": {
      "text/plain": [
       "<matplotlib.axes._subplots.AxesSubplot at 0x111e679b0>"
      ]
     },
     "execution_count": 35,
     "metadata": {},
     "output_type": "execute_result"
    },
    {
     "data": {
      "image/png": "[encoded data removed]",
      "text/plain": [
       "<matplotlib.figure.Figure at 0x111e04c88>"
      ]
     },
     "metadata": {},
     "output_type": "display_data"
    }
   ],
   "source": [
    "audiji.groupby('Prva registracija').mean()['Cena'].plot()"
   ]
  },
  {
   "cell_type": "code",
   "execution_count": 19,
   "metadata": {},
   "outputs": [
    {
     "data": {
      "text/plain": [
       "Indeks\n",
       "12793893    1997\n",
       "Name: Prva registracija, dtype: int64"
      ]
     },
     "execution_count": 19,
     "metadata": {},
     "output_type": "execute_result"
    }
   ],
   "source": [
    "audiji['Prva registracija'].sort_values().head(1)"
   ]
  },
  {
   "cell_type": "code",
   "execution_count": 18,
   "metadata": {},
   "outputs": [
    {
     "data": {
      "text/html": [
       "<div>\n",
       "<style>\n",
       "    .dataframe thead tr:only-child th {\n",
       "        text-align: right;\n",
       "    }\n",
       "\n",
       "    .dataframe thead th {\n",
       "        text-align: left;\n",
       "    }\n",
       "\n",
       "    .dataframe tbody tr th {\n",
       "        vertical-align: top;\n",
       "    }\n",
       "</style>\n",
       "<table border=\"1\" class=\"dataframe\">\n",
       "  <thead>\n",
       "    <tr style=\"text-align: right;\">\n",
       "      <th></th>\n",
       "      <th>Ime</th>\n",
       "      <th>Prva registracija</th>\n",
       "      <th>Prevozeni km</th>\n",
       "      <th>Tip motorja</th>\n",
       "      <th>Cena</th>\n",
       "      <th>Unnamed: 6</th>\n",
       "    </tr>\n",
       "    <tr>\n",
       "      <th>Indeks</th>\n",
       "      <th></th>\n",
       "      <th></th>\n",
       "      <th></th>\n",
       "      <th></th>\n",
       "      <th></th>\n",
       "      <th></th>\n",
       "    </tr>\n",
       "  </thead>\n",
       "  <tbody>\n",
       "  </tbody>\n",
       "</table>\n",
       "</div>"
      ],
      "text/plain": [
       "Empty DataFrame\n",
       "Columns: [Ime, Prva registracija, Prevozeni km, Tip motorja, Cena, Unnamed: 6]\n",
       "Index: []"
      ]
     },
     "execution_count": 18,
     "metadata": {},
     "output_type": "execute_result"
    }
   ],
   "source": [
    "audiji[audiji['Prva registracija'] < 1988]"
   ]
  },
  {
   "cell_type": "markdown",
   "metadata": {},
   "source": [
    "Avto, ki je starejši od 30 let, velja za \"oldtaimerja\". Na tej spletni strani se zato ne prodaja noben \"oldtimer\"."
   ]
  },
  {
   "cell_type": "code",
   "execution_count": 32,
   "metadata": {},
   "outputs": [
    {
     "ename": "ValueError",
     "evalue": "scatter requires x column to be numeric",
     "output_type": "error",
     "traceback": [
      "\u001b[0;31m---------------------------------------------------------------------------\u001b[0m",
      "\u001b[0;31mValueError\u001b[0m                                Traceback (most recent call last)",
      "\u001b[0;32m<ipython-input-32-c7fa2ee7a682>\u001b[0m in \u001b[0;36m<module>\u001b[0;34m()\u001b[0m\n\u001b[0;32m----> 1\u001b[0;31m \u001b[0maudiji\u001b[0m\u001b[0;34m.\u001b[0m\u001b[0mplot\u001b[0m\u001b[0;34m.\u001b[0m\u001b[0mscatter\u001b[0m\u001b[0;34m(\u001b[0m\u001b[0;34m'Prevozeni km'\u001b[0m\u001b[0;34m,\u001b[0m \u001b[0;34m'Prva registracija'\u001b[0m\u001b[0;34m)\u001b[0m\u001b[0;34m\u001b[0m\u001b[0m\n\u001b[0m",
      "\u001b[0;32m~/anaconda3/lib/python3.6/site-packages/pandas/plotting/_core.py\u001b[0m in \u001b[0;36mscatter\u001b[0;34m(self, x, y, s, c, **kwds)\u001b[0m\n\u001b[1;32m   2803\u001b[0m         \u001b[0maxes\u001b[0m \u001b[0;34m:\u001b[0m \u001b[0mmatplotlib\u001b[0m\u001b[0;34m.\u001b[0m\u001b[0mAxesSubplot\u001b[0m \u001b[0;32mor\u001b[0m \u001b[0mnp\u001b[0m\u001b[0;34m.\u001b[0m\u001b[0marray\u001b[0m \u001b[0mof\u001b[0m \u001b[0mthem\u001b[0m\u001b[0;34m\u001b[0m\u001b[0m\n\u001b[1;32m   2804\u001b[0m         \"\"\"\n\u001b[0;32m-> 2805\u001b[0;31m         \u001b[0;32mreturn\u001b[0m \u001b[0mself\u001b[0m\u001b[0;34m(\u001b[0m\u001b[0mkind\u001b[0m\u001b[0;34m=\u001b[0m\u001b[0;34m'scatter'\u001b[0m\u001b[0;34m,\u001b[0m \u001b[0mx\u001b[0m\u001b[0;34m=\u001b[0m\u001b[0mx\u001b[0m\u001b[0;34m,\u001b[0m \u001b[0my\u001b[0m\u001b[0;34m=\u001b[0m\u001b[0my\u001b[0m\u001b[0;34m,\u001b[0m \u001b[0mc\u001b[0m\u001b[0;34m=\u001b[0m\u001b[0mc\u001b[0m\u001b[0;34m,\u001b[0m \u001b[0ms\u001b[0m\u001b[0;34m=\u001b[0m\u001b[0ms\u001b[0m\u001b[0;34m,\u001b[0m \u001b[0;34m**\u001b[0m\u001b[0mkwds\u001b[0m\u001b[0;34m)\u001b[0m\u001b[0;34m\u001b[0m\u001b[0m\n\u001b[0m\u001b[1;32m   2806\u001b[0m \u001b[0;34m\u001b[0m\u001b[0m\n\u001b[1;32m   2807\u001b[0m     def hexbin(self, x, y, C=None, reduce_C_function=None, gridsize=None,\n",
      "\u001b[0;32m~/anaconda3/lib/python3.6/site-packages/pandas/plotting/_core.py\u001b[0m in \u001b[0;36m__call__\u001b[0;34m(self, x, y, kind, ax, subplots, sharex, sharey, layout, figsize, use_index, title, grid, legend, style, logx, logy, loglog, xticks, yticks, xlim, ylim, rot, fontsize, colormap, table, yerr, xerr, secondary_y, sort_columns, **kwds)\u001b[0m\n\u001b[1;32m   2625\u001b[0m                           \u001b[0mfontsize\u001b[0m\u001b[0;34m=\u001b[0m\u001b[0mfontsize\u001b[0m\u001b[0;34m,\u001b[0m \u001b[0mcolormap\u001b[0m\u001b[0;34m=\u001b[0m\u001b[0mcolormap\u001b[0m\u001b[0;34m,\u001b[0m \u001b[0mtable\u001b[0m\u001b[0;34m=\u001b[0m\u001b[0mtable\u001b[0m\u001b[0;34m,\u001b[0m\u001b[0;34m\u001b[0m\u001b[0m\n\u001b[1;32m   2626\u001b[0m                           \u001b[0myerr\u001b[0m\u001b[0;34m=\u001b[0m\u001b[0myerr\u001b[0m\u001b[0;34m,\u001b[0m \u001b[0mxerr\u001b[0m\u001b[0;34m=\u001b[0m\u001b[0mxerr\u001b[0m\u001b[0;34m,\u001b[0m \u001b[0msecondary_y\u001b[0m\u001b[0;34m=\u001b[0m\u001b[0msecondary_y\u001b[0m\u001b[0;34m,\u001b[0m\u001b[0;34m\u001b[0m\u001b[0m\n\u001b[0;32m-> 2627\u001b[0;31m                           sort_columns=sort_columns, **kwds)\n\u001b[0m\u001b[1;32m   2628\u001b[0m     \u001b[0m__call__\u001b[0m\u001b[0;34m.\u001b[0m\u001b[0m__doc__\u001b[0m \u001b[0;34m=\u001b[0m \u001b[0mplot_frame\u001b[0m\u001b[0;34m.\u001b[0m\u001b[0m__doc__\u001b[0m\u001b[0;34m\u001b[0m\u001b[0m\n\u001b[1;32m   2629\u001b[0m \u001b[0;34m\u001b[0m\u001b[0m\n",
      "\u001b[0;32m~/anaconda3/lib/python3.6/site-packages/pandas/plotting/_core.py\u001b[0m in \u001b[0;36mplot_frame\u001b[0;34m(data, x, y, kind, ax, subplots, sharex, sharey, layout, figsize, use_index, title, grid, legend, style, logx, logy, loglog, xticks, yticks, xlim, ylim, rot, fontsize, colormap, table, yerr, xerr, secondary_y, sort_columns, **kwds)\u001b[0m\n\u001b[1;32m   1867\u001b[0m                  \u001b[0myerr\u001b[0m\u001b[0;34m=\u001b[0m\u001b[0myerr\u001b[0m\u001b[0;34m,\u001b[0m \u001b[0mxerr\u001b[0m\u001b[0;34m=\u001b[0m\u001b[0mxerr\u001b[0m\u001b[0;34m,\u001b[0m\u001b[0;34m\u001b[0m\u001b[0m\n\u001b[1;32m   1868\u001b[0m                  \u001b[0msecondary_y\u001b[0m\u001b[0;34m=\u001b[0m\u001b[0msecondary_y\u001b[0m\u001b[0;34m,\u001b[0m \u001b[0msort_columns\u001b[0m\u001b[0;34m=\u001b[0m\u001b[0msort_columns\u001b[0m\u001b[0;34m,\u001b[0m\u001b[0;34m\u001b[0m\u001b[0m\n\u001b[0;32m-> 1869\u001b[0;31m                  **kwds)\n\u001b[0m\u001b[1;32m   1870\u001b[0m \u001b[0;34m\u001b[0m\u001b[0m\n\u001b[1;32m   1871\u001b[0m \u001b[0;34m\u001b[0m\u001b[0m\n",
      "\u001b[0;32m~/anaconda3/lib/python3.6/site-packages/pandas/plotting/_core.py\u001b[0m in \u001b[0;36m_plot\u001b[0;34m(data, x, y, subplots, ax, kind, **kwds)\u001b[0m\n\u001b[1;32m   1650\u001b[0m         \u001b[0;32mif\u001b[0m \u001b[0misinstance\u001b[0m\u001b[0;34m(\u001b[0m\u001b[0mdata\u001b[0m\u001b[0;34m,\u001b[0m \u001b[0mDataFrame\u001b[0m\u001b[0;34m)\u001b[0m\u001b[0;34m:\u001b[0m\u001b[0;34m\u001b[0m\u001b[0m\n\u001b[1;32m   1651\u001b[0m             plot_obj = klass(data, x=x, y=y, subplots=subplots, ax=ax,\n\u001b[0;32m-> 1652\u001b[0;31m                              kind=kind, **kwds)\n\u001b[0m\u001b[1;32m   1653\u001b[0m         \u001b[0;32melse\u001b[0m\u001b[0;34m:\u001b[0m\u001b[0;34m\u001b[0m\u001b[0m\n\u001b[1;32m   1654\u001b[0m             raise ValueError(\"plot kind %r can only be used for data frames\"\n",
      "\u001b[0;32m~/anaconda3/lib/python3.6/site-packages/pandas/plotting/_core.py\u001b[0m in \u001b[0;36m__init__\u001b[0;34m(self, data, x, y, s, c, **kwargs)\u001b[0m\n\u001b[1;32m    808\u001b[0m             \u001b[0;31m# the handling of this argument later\u001b[0m\u001b[0;34m\u001b[0m\u001b[0;34m\u001b[0m\u001b[0m\n\u001b[1;32m    809\u001b[0m             \u001b[0ms\u001b[0m \u001b[0;34m=\u001b[0m \u001b[0;36m20\u001b[0m\u001b[0;34m\u001b[0m\u001b[0m\n\u001b[0;32m--> 810\u001b[0;31m         \u001b[0msuper\u001b[0m\u001b[0;34m(\u001b[0m\u001b[0mScatterPlot\u001b[0m\u001b[0;34m,\u001b[0m \u001b[0mself\u001b[0m\u001b[0;34m)\u001b[0m\u001b[0;34m.\u001b[0m\u001b[0m__init__\u001b[0m\u001b[0;34m(\u001b[0m\u001b[0mdata\u001b[0m\u001b[0;34m,\u001b[0m \u001b[0mx\u001b[0m\u001b[0;34m,\u001b[0m \u001b[0my\u001b[0m\u001b[0;34m,\u001b[0m \u001b[0ms\u001b[0m\u001b[0;34m=\u001b[0m\u001b[0ms\u001b[0m\u001b[0;34m,\u001b[0m \u001b[0;34m**\u001b[0m\u001b[0mkwargs\u001b[0m\u001b[0;34m)\u001b[0m\u001b[0;34m\u001b[0m\u001b[0m\n\u001b[0m\u001b[1;32m    811\u001b[0m         \u001b[0;32mif\u001b[0m \u001b[0mis_integer\u001b[0m\u001b[0;34m(\u001b[0m\u001b[0mc\u001b[0m\u001b[0;34m)\u001b[0m \u001b[0;32mand\u001b[0m \u001b[0;32mnot\u001b[0m \u001b[0mself\u001b[0m\u001b[0;34m.\u001b[0m\u001b[0mdata\u001b[0m\u001b[0;34m.\u001b[0m\u001b[0mcolumns\u001b[0m\u001b[0;34m.\u001b[0m\u001b[0mholds_integer\u001b[0m\u001b[0;34m(\u001b[0m\u001b[0;34m)\u001b[0m\u001b[0;34m:\u001b[0m\u001b[0;34m\u001b[0m\u001b[0m\n\u001b[1;32m    812\u001b[0m             \u001b[0mc\u001b[0m \u001b[0;34m=\u001b[0m \u001b[0mself\u001b[0m\u001b[0;34m.\u001b[0m\u001b[0mdata\u001b[0m\u001b[0;34m.\u001b[0m\u001b[0mcolumns\u001b[0m\u001b[0;34m[\u001b[0m\u001b[0mc\u001b[0m\u001b[0;34m]\u001b[0m\u001b[0;34m\u001b[0m\u001b[0m\n",
      "\u001b[0;32m~/anaconda3/lib/python3.6/site-packages/pandas/plotting/_core.py\u001b[0m in \u001b[0;36m__init__\u001b[0;34m(self, data, x, y, **kwargs)\u001b[0m\n\u001b[1;32m    783\u001b[0m             \u001b[0my\u001b[0m \u001b[0;34m=\u001b[0m \u001b[0mself\u001b[0m\u001b[0;34m.\u001b[0m\u001b[0mdata\u001b[0m\u001b[0;34m.\u001b[0m\u001b[0mcolumns\u001b[0m\u001b[0;34m[\u001b[0m\u001b[0my\u001b[0m\u001b[0;34m]\u001b[0m\u001b[0;34m\u001b[0m\u001b[0m\n\u001b[1;32m    784\u001b[0m         \u001b[0;32mif\u001b[0m \u001b[0mlen\u001b[0m\u001b[0;34m(\u001b[0m\u001b[0mself\u001b[0m\u001b[0;34m.\u001b[0m\u001b[0mdata\u001b[0m\u001b[0;34m[\u001b[0m\u001b[0mx\u001b[0m\u001b[0;34m]\u001b[0m\u001b[0;34m.\u001b[0m\u001b[0m_get_numeric_data\u001b[0m\u001b[0;34m(\u001b[0m\u001b[0;34m)\u001b[0m\u001b[0;34m)\u001b[0m \u001b[0;34m==\u001b[0m \u001b[0;36m0\u001b[0m\u001b[0;34m:\u001b[0m\u001b[0;34m\u001b[0m\u001b[0m\n\u001b[0;32m--> 785\u001b[0;31m             \u001b[0;32mraise\u001b[0m \u001b[0mValueError\u001b[0m\u001b[0;34m(\u001b[0m\u001b[0mself\u001b[0m\u001b[0;34m.\u001b[0m\u001b[0m_kind\u001b[0m \u001b[0;34m+\u001b[0m \u001b[0;34m' requires x column to be numeric'\u001b[0m\u001b[0;34m)\u001b[0m\u001b[0;34m\u001b[0m\u001b[0m\n\u001b[0m\u001b[1;32m    786\u001b[0m         \u001b[0;32mif\u001b[0m \u001b[0mlen\u001b[0m\u001b[0;34m(\u001b[0m\u001b[0mself\u001b[0m\u001b[0;34m.\u001b[0m\u001b[0mdata\u001b[0m\u001b[0;34m[\u001b[0m\u001b[0my\u001b[0m\u001b[0;34m]\u001b[0m\u001b[0;34m.\u001b[0m\u001b[0m_get_numeric_data\u001b[0m\u001b[0;34m(\u001b[0m\u001b[0;34m)\u001b[0m\u001b[0;34m)\u001b[0m \u001b[0;34m==\u001b[0m \u001b[0;36m0\u001b[0m\u001b[0;34m:\u001b[0m\u001b[0;34m\u001b[0m\u001b[0m\n\u001b[1;32m    787\u001b[0m             \u001b[0;32mraise\u001b[0m \u001b[0mValueError\u001b[0m\u001b[0;34m(\u001b[0m\u001b[0mself\u001b[0m\u001b[0;34m.\u001b[0m\u001b[0m_kind\u001b[0m \u001b[0;34m+\u001b[0m \u001b[0;34m' requires y column to be numeric'\u001b[0m\u001b[0;34m)\u001b[0m\u001b[0;34m\u001b[0m\u001b[0m\n",
      "\u001b[0;31mValueError\u001b[0m: scatter requires x column to be numeric"
     ]
    }
   ],
   "source": [
    "audiji.plot.scatter('Prevozeni km', 'Prva registracija')"
   ]
  },
  {
   "cell_type": "markdown",
   "metadata": {},
   "source": [
    "## PREVOŽENI KILOMETRI\n"
   ]
  },
  {
   "cell_type": "code",
   "execution_count": 23,
   "metadata": {},
   "outputs": [
    {
     "data": {
      "text/html": [
       "<div>\n",
       "<style>\n",
       "    .dataframe thead tr:only-child th {\n",
       "        text-align: right;\n",
       "    }\n",
       "\n",
       "    .dataframe thead th {\n",
       "        text-align: left;\n",
       "    }\n",
       "\n",
       "    .dataframe tbody tr th {\n",
       "        vertical-align: top;\n",
       "    }\n",
       "</style>\n",
       "<table border=\"1\" class=\"dataframe\">\n",
       "  <thead>\n",
       "    <tr style=\"text-align: right;\">\n",
       "      <th></th>\n",
       "      <th>Ime</th>\n",
       "      <th>Prva registracija</th>\n",
       "      <th>Prevozeni km</th>\n",
       "      <th>Tip motorja</th>\n",
       "      <th>Cena</th>\n",
       "      <th>Unnamed: 6</th>\n",
       "    </tr>\n",
       "    <tr>\n",
       "      <th>Indeks</th>\n",
       "      <th></th>\n",
       "      <th></th>\n",
       "      <th></th>\n",
       "      <th></th>\n",
       "      <th></th>\n",
       "      <th></th>\n",
       "    </tr>\n",
       "  </thead>\n",
       "  <tbody>\n",
       "    <tr>\n",
       "      <th>12794597</th>\n",
       "      <td>b'Audi A6 Avant 2.0 TDI-SERVISNA.LED.PDC.M...'</td>\n",
       "      <td>2013</td>\n",
       "      <td>69000 km</td>\n",
       "      <td>diesel motor</td>\n",
       "      <td>26.89</td>\n",
       "      <td>NaN</td>\n",
       "    </tr>\n",
       "    <tr>\n",
       "      <th>12794597</th>\n",
       "      <td>b'Audi A6 Avant 2.0 TDI-SERVISNA.LED.PDC.M...'</td>\n",
       "      <td>2013</td>\n",
       "      <td>69000 km</td>\n",
       "      <td>diesel motor</td>\n",
       "      <td>26.89</td>\n",
       "      <td>NaN</td>\n",
       "    </tr>\n",
       "    <tr>\n",
       "      <th>12794597</th>\n",
       "      <td>b'Audi A6 Avant 2.0 TDI-SERVISNA.LED.PDC.M...'</td>\n",
       "      <td>2013</td>\n",
       "      <td>69000 km</td>\n",
       "      <td>diesel motor</td>\n",
       "      <td>26.89</td>\n",
       "      <td>NaN</td>\n",
       "    </tr>\n",
       "    <tr>\n",
       "      <th>12794597</th>\n",
       "      <td>b'Audi A6 Avant 2.0 TDI-SERVISNA.LED.PDC.M...'</td>\n",
       "      <td>2013</td>\n",
       "      <td>69000 km</td>\n",
       "      <td>diesel motor</td>\n",
       "      <td>26.89</td>\n",
       "      <td>NaN</td>\n",
       "    </tr>\n",
       "    <tr>\n",
       "      <th>...</th>\n",
       "      <td>...</td>\n",
       "      <td>...</td>\n",
       "      <td>...</td>\n",
       "      <td>...</td>\n",
       "      <td>...</td>\n",
       "      <td>...</td>\n",
       "    </tr>\n",
       "    <tr>\n",
       "      <th>12794597</th>\n",
       "      <td>b'Audi A6 Avant 2.0 TDI-SERVISNA.LED.PDC.M...'</td>\n",
       "      <td>2013</td>\n",
       "      <td>69000 km</td>\n",
       "      <td>diesel motor</td>\n",
       "      <td>26.89</td>\n",
       "      <td>NaN</td>\n",
       "    </tr>\n",
       "    <tr>\n",
       "      <th>12794597</th>\n",
       "      <td>b'Audi A6 Avant 2.0 TDI-SERVISNA.LED.PDC.M...'</td>\n",
       "      <td>2013</td>\n",
       "      <td>69000 km</td>\n",
       "      <td>diesel motor</td>\n",
       "      <td>26.89</td>\n",
       "      <td>NaN</td>\n",
       "    </tr>\n",
       "    <tr>\n",
       "      <th>12794597</th>\n",
       "      <td>b'Audi A6 Avant 2.0 TDI-SERVISNA.LED.PDC.M...'</td>\n",
       "      <td>2013</td>\n",
       "      <td>69000 km</td>\n",
       "      <td>diesel motor</td>\n",
       "      <td>26.89</td>\n",
       "      <td>NaN</td>\n",
       "    </tr>\n",
       "    <tr>\n",
       "      <th>12794597</th>\n",
       "      <td>b'Audi A6 Avant 2.0 TDI-SERVISNA.LED.PDC.M...'</td>\n",
       "      <td>2013</td>\n",
       "      <td>69000 km</td>\n",
       "      <td>diesel motor</td>\n",
       "      <td>26.89</td>\n",
       "      <td>NaN</td>\n",
       "    </tr>\n",
       "  </tbody>\n",
       "</table>\n",
       "<p>10 rows × 6 columns</p>\n",
       "</div>"
      ],
      "text/plain": [
       "                                                     Ime  Prva registracija  \\\n",
       "Indeks                                                                        \n",
       "12794597  b'Audi A6 Avant 2.0 TDI-SERVISNA.LED.PDC.M...'               2013   \n",
       "12794597  b'Audi A6 Avant 2.0 TDI-SERVISNA.LED.PDC.M...'               2013   \n",
       "12794597  b'Audi A6 Avant 2.0 TDI-SERVISNA.LED.PDC.M...'               2013   \n",
       "12794597  b'Audi A6 Avant 2.0 TDI-SERVISNA.LED.PDC.M...'               2013   \n",
       "...                                                  ...                ...   \n",
       "12794597  b'Audi A6 Avant 2.0 TDI-SERVISNA.LED.PDC.M...'               2013   \n",
       "12794597  b'Audi A6 Avant 2.0 TDI-SERVISNA.LED.PDC.M...'               2013   \n",
       "12794597  b'Audi A6 Avant 2.0 TDI-SERVISNA.LED.PDC.M...'               2013   \n",
       "12794597  b'Audi A6 Avant 2.0 TDI-SERVISNA.LED.PDC.M...'               2013   \n",
       "\n",
       "         Prevozeni km   Tip motorja   Cena  Unnamed: 6  \n",
       "Indeks                                                  \n",
       "12794597     69000 km  diesel motor  26.89         NaN  \n",
       "12794597     69000 km  diesel motor  26.89         NaN  \n",
       "12794597     69000 km  diesel motor  26.89         NaN  \n",
       "12794597     69000 km  diesel motor  26.89         NaN  \n",
       "...               ...           ...    ...         ...  \n",
       "12794597     69000 km  diesel motor  26.89         NaN  \n",
       "12794597     69000 km  diesel motor  26.89         NaN  \n",
       "12794597     69000 km  diesel motor  26.89         NaN  \n",
       "12794597     69000 km  diesel motor  26.89         NaN  \n",
       "\n",
       "[10 rows x 6 columns]"
      ]
     },
     "execution_count": 23,
     "metadata": {},
     "output_type": "execute_result"
    }
   ],
   "source": [
    "audiji.sort_values('Prevozeni km').tail(10)"
   ]
  },
  {
   "cell_type": "markdown",
   "metadata": {},
   "source": [
    "## CENA \n"
   ]
  },
  {
   "cell_type": "code",
   "execution_count": 43,
   "metadata": {},
   "outputs": [
    {
     "data": {
      "text/plain": [
       "<matplotlib.axes._subplots.AxesSubplot at 0x11208e5c0>"
      ]
     },
     "execution_count": 43,
     "metadata": {},
     "output_type": "execute_result"
    },
    {
     "data": {
      "image/png": "[encoded data removed]",
      "text/plain": [
       "<matplotlib.figure.Figure at 0x1120809b0>"
      ]
     },
     "metadata": {},
     "output_type": "display_data"
    }
   ],
   "source": [
    "audiji['Cena'].plot()"
   ]
  },
  {
   "cell_type": "code",
   "execution_count": 63,
   "metadata": {},
   "outputs": [],
   "source": [
    "približne_cene = 1 * (audiji['Cena'] // 1)"
   ]
  },
  {
   "cell_type": "code",
   "execution_count": 72,
   "metadata": {},
   "outputs": [
    {
     "data": {
      "text/plain": [
       "Cena\n",
       "1.0     2000.007407\n",
       "2.0     2001.166667\n",
       "3.0     2002.500000\n",
       "4.0     2005.000000\n",
       "           ...     \n",
       "22.0    2014.000000\n",
       "23.0    2014.000000\n",
       "24.0    2014.000000\n",
       "26.0    2013.000000\n",
       "Name: Prva registracija, Length: 20, dtype: float64"
      ]
     },
     "execution_count": 72,
     "metadata": {},
     "output_type": "execute_result"
    }
   ],
   "source": [
    "audiji.groupby(približne_cene)['Prva registracija'].mean()"
   ]
  },
  {
   "cell_type": "code",
   "execution_count": 60,
   "metadata": {
    "collapsed": true
   },
   "outputs": [],
   "source": [
    "%matplotlib inline"
   ]
  },
  {
   "cell_type": "code",
   "execution_count": null,
   "metadata": {
    "collapsed": true
   },
   "outputs": [],
   "source": []
  }
 ],
 "metadata": {
  "kernelspec": {
   "display_name": "Python 3",
   "language": "python",
   "name": "python3"
  },
  "language_info": {
   "codemirror_mode": {
    "name": "ipython",
    "version": 3
   },
   "file_extension": ".py",
   "mimetype": "text/x-python",
   "name": "python",
   "nbconvert_exporter": "python",
   "pygments_lexer": "ipython3",
   "version": "3.6.2"
  }
 },
 "nbformat": 4,
 "nbformat_minor": 2
}
