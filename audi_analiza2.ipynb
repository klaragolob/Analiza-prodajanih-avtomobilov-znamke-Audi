{
 "cells": [
  {
   "cell_type": "code",
   "execution_count": 5,
   "metadata": {
    "collapsed": true
   },
   "outputs": [],
   "source": [
    "import pandas as pd"
   ]
  },
  {
   "cell_type": "markdown",
   "metadata": {},
   "source": [
    "# Analiza prodajanih avtomobilov znamke Audi\n",
    "\n",
    "Iz spletne strani https://www.avto.net sem zajela naslednje podatke o vseh vozilih znamke Audi, ki se tam prodajajo:\n",
    "\n",
    "* ime vozila \n",
    "* prva registracija\n",
    "* prvoženi kilometri\n",
    "* tip motorja \n",
    "* cena \n",
    "\n",
    "Ti podatki so prikazani v spodnji tabeli.\n"
   ]
  },
  {
   "cell_type": "code",
   "execution_count": 6,
   "metadata": {},
   "outputs": [
    {
     "data": {
      "text/html": [
       "<div>\n",
       "<style>\n",
       "    .dataframe thead tr:only-child th {\n",
       "        text-align: right;\n",
       "    }\n",
       "\n",
       "    .dataframe thead th {\n",
       "        text-align: left;\n",
       "    }\n",
       "\n",
       "    .dataframe tbody tr th {\n",
       "        vertical-align: top;\n",
       "    }\n",
       "</style>\n",
       "<table border=\"1\" class=\"dataframe\">\n",
       "  <thead>\n",
       "    <tr style=\"text-align: right;\">\n",
       "      <th></th>\n",
       "      <th>Ime</th>\n",
       "      <th>Prva registracija</th>\n",
       "      <th>Prevozeni km</th>\n",
       "      <th>Tip motorja</th>\n",
       "      <th>Cena</th>\n",
       "      <th>Unnamed: 6</th>\n",
       "    </tr>\n",
       "    <tr>\n",
       "      <th>Indeks</th>\n",
       "      <th></th>\n",
       "      <th></th>\n",
       "      <th></th>\n",
       "      <th></th>\n",
       "      <th></th>\n",
       "      <th></th>\n",
       "    </tr>\n",
       "  </thead>\n",
       "  <tbody>\n",
       "    <tr>\n",
       "      <th>12795163</th>\n",
       "      <td>b'Audi A4 Avant 1.9 TDI. servisna knjiga p...'</td>\n",
       "      <td>2006</td>\n",
       "      <td>228000 km</td>\n",
       "      <td>diesel motor</td>\n",
       "      <td>5.890</td>\n",
       "      <td>NaN</td>\n",
       "    </tr>\n",
       "    <tr>\n",
       "      <th>12795041</th>\n",
       "      <td>b'Audi A4 1.8'</td>\n",
       "      <td>1998</td>\n",
       "      <td>305000 km</td>\n",
       "      <td>bencinski motor</td>\n",
       "      <td>1.200</td>\n",
       "      <td>NaN</td>\n",
       "    </tr>\n",
       "    <tr>\n",
       "      <th>12795036</th>\n",
       "      <td>b'Audi A6 2.0 TDI ULTRA ZRA\\xc3\\x88NO+KAMERA+U...</td>\n",
       "      <td>2014</td>\n",
       "      <td>150000 km</td>\n",
       "      <td>diesel motor</td>\n",
       "      <td>22.280</td>\n",
       "      <td>NaN</td>\n",
       "    </tr>\n",
       "    <tr>\n",
       "      <th>12794988</th>\n",
       "      <td>b'Audi A6 2.0 TDI'</td>\n",
       "      <td>2005</td>\n",
       "      <td>264000 km</td>\n",
       "      <td>diesel motor</td>\n",
       "      <td>6.500</td>\n",
       "      <td>NaN</td>\n",
       "    </tr>\n",
       "    <tr>\n",
       "      <th>...</th>\n",
       "      <td>...</td>\n",
       "      <td>...</td>\n",
       "      <td>...</td>\n",
       "      <td>...</td>\n",
       "      <td>...</td>\n",
       "      <td>...</td>\n",
       "    </tr>\n",
       "    <tr>\n",
       "      <th>12793679</th>\n",
       "      <td>b'Audi A6 Avant 2.0 TDI - SPORT PAKET - NA...'</td>\n",
       "      <td>2010</td>\n",
       "      <td>186400 km</td>\n",
       "      <td>diesel motor</td>\n",
       "      <td>10.999</td>\n",
       "      <td>NaN</td>\n",
       "    </tr>\n",
       "    <tr>\n",
       "      <th>12793669</th>\n",
       "      <td>b'Audi Q3 2.0 TDI NAVI-ALU-ODLI\\xc3\\x88EN...'</td>\n",
       "      <td>2012</td>\n",
       "      <td>159827 km</td>\n",
       "      <td>diesel motor</td>\n",
       "      <td>15.750</td>\n",
       "      <td>NaN</td>\n",
       "    </tr>\n",
       "    <tr>\n",
       "      <th>12793657</th>\n",
       "      <td>b'Audi A4 2.0 TDI'</td>\n",
       "      <td>2005</td>\n",
       "      <td>203000 km</td>\n",
       "      <td>diesel motor</td>\n",
       "      <td>4.600</td>\n",
       "      <td>NaN</td>\n",
       "    </tr>\n",
       "    <tr>\n",
       "      <th>12793648</th>\n",
       "      <td>b'Audi A4 1.9 TDI'</td>\n",
       "      <td>2002</td>\n",
       "      <td>340000 km</td>\n",
       "      <td>diesel motor</td>\n",
       "      <td>2.950</td>\n",
       "      <td>NaN</td>\n",
       "    </tr>\n",
       "  </tbody>\n",
       "</table>\n",
       "<p>1529 rows × 6 columns</p>\n",
       "</div>"
      ],
      "text/plain": [
       "                                                        Ime  \\\n",
       "Indeks                                                        \n",
       "12795163     b'Audi A4 Avant 1.9 TDI. servisna knjiga p...'   \n",
       "12795041                                     b'Audi A4 1.8'   \n",
       "12795036  b'Audi A6 2.0 TDI ULTRA ZRA\\xc3\\x88NO+KAMERA+U...   \n",
       "12794988                                 b'Audi A6 2.0 TDI'   \n",
       "...                                                     ...   \n",
       "12793679     b'Audi A6 Avant 2.0 TDI - SPORT PAKET - NA...'   \n",
       "12793669      b'Audi Q3 2.0 TDI NAVI-ALU-ODLI\\xc3\\x88EN...'   \n",
       "12793657                                 b'Audi A4 2.0 TDI'   \n",
       "12793648                                 b'Audi A4 1.9 TDI'   \n",
       "\n",
       "          Prva registracija Prevozeni km      Tip motorja    Cena  Unnamed: 6  \n",
       "Indeks                                                                         \n",
       "12795163               2006    228000 km     diesel motor   5.890         NaN  \n",
       "12795041               1998    305000 km  bencinski motor   1.200         NaN  \n",
       "12795036               2014    150000 km     diesel motor  22.280         NaN  \n",
       "12794988               2005    264000 km     diesel motor   6.500         NaN  \n",
       "...                     ...          ...              ...     ...         ...  \n",
       "12793679               2010    186400 km     diesel motor  10.999         NaN  \n",
       "12793669               2012    159827 km     diesel motor  15.750         NaN  \n",
       "12793657               2005    203000 km     diesel motor   4.600         NaN  \n",
       "12793648               2002    340000 km     diesel motor   2.950         NaN  \n",
       "\n",
       "[1529 rows x 6 columns]"
      ]
     },
     "execution_count": 6,
     "metadata": {},
     "output_type": "execute_result"
    }
   ],
   "source": [
    "pd.options.display.max_rows = 8 # Nastavitev maks. št. prikazanih vrstic v tabeli\n",
    "audiji = pd.read_csv('audi_data.csv', index_col ='Indeks')\n",
    "audiji"
   ]
  },
  {
   "cell_type": "markdown",
   "metadata": {},
   "source": [
    "## UVOD \n",
    "\n",
    "Pri kupovanju rabljenih in novih avtomobilov skoraj vsi pogledajo ponudbo tudi na spletni strani https://www.avto.net. In ker je znamka Audi ena izmed bolj priljubljenih znamk med slovenskim prebivalstvom sem se odločila da bom analizirala prav to. Verjetno so najpomembnejše lastnosti, na podlagi katerih se odločimo da bomo kupili prav to vozilo, cena, starost vozila, prevoženi kilometri in tip motorja. Seveda so pomembne tudi druge lastnosti, a za okvirno analizo bo tudi to dovolj."
   ]
  },
  {
   "cell_type": "markdown",
   "metadata": {},
   "source": [
    "## TIP MOTORJA\n",
    "\n",
    "Vozila imajo več tipov motorja. Pri Audijih v tabeli so to: dizel motor, bencinski motor in bencinski motor predelan na plin - bencinski motor + plin. \n",
    "Najprej si poglejmo katerih tipov motorja se prodaja največ."
   ]
  },
  {
   "cell_type": "code",
   "execution_count": 7,
   "metadata": {},
   "outputs": [
    {
     "data": {
      "text/plain": [
       "<matplotlib.axes._subplots.AxesSubplot at 0x10c387b38>"
      ]
     },
     "execution_count": 7,
     "metadata": {},
     "output_type": "execute_result"
    }
   ],
   "source": [
    "audiji.groupby('Tip motorja').size().plot(kind='bar')\n"
   ]
  },
  {
   "cell_type": "markdown",
   "metadata": {},
   "source": [
    "Graf pokaže da da se daleč največ prodaja avtomobile z diesel motorjem, in (kot pričakovano) najmanj avtomobilov na plin. "
   ]
  },
  {
   "cell_type": "code",
   "execution_count": 8,
   "metadata": {},
   "outputs": [
    {
     "data": {
      "text/plain": [
       "Tip motorja\n",
       "bencinski motor           4.780000\n",
       "bencinski motor + plin    4.175000\n",
       "diesel motor              9.455535\n",
       "Name: Cena, dtype: float64"
      ]
     },
     "execution_count": 8,
     "metadata": {},
     "output_type": "execute_result"
    }
   ],
   "source": [
    "audiji.groupby('Tip motorja').mean()['Cena']"
   ]
  },
  {
   "cell_type": "code",
   "execution_count": 17,
   "metadata": {},
   "outputs": [
    {
     "data": {
      "text/plain": [
       "<matplotlib.axes._subplots.AxesSubplot at 0x11387de48>"
      ]
     },
     "execution_count": 17,
     "metadata": {},
     "output_type": "execute_result"
    },
    {
     "data": {
      "image/png": "[encoded data removed]",
      "text/plain": [
       "<matplotlib.figure.Figure at 0x113846390>"
      ]
     },
     "metadata": {},
     "output_type": "display_data"
    }
   ],
   "source": [
    "audiji.groupby('Tip motorja').mean()['Cena'].plot(kind='bar')"
   ]
  },
  {
   "cell_type": "markdown",
   "metadata": {},
   "source": [
    "Iz zgornjega izračuna in grafa vidimo, da se najdražji avtomobili z diesel motorjem, potem bencinski in nato avtomobili na plin. Najbolj ugoden za nakup je zato avto na plin, saj je v povprečju najcenejši, poleg tega pa je tudi sam plin zelo poceni. Če pa izbirate avto z drugačnim tipom motorja boste za avto z diesel motorjem odšteli več denarja, a boste imeli cenejše gorivo kot pri avtu z bencinskim motorjem."
   ]
  },
  {
   "cell_type": "markdown",
   "metadata": {},
   "source": [
    "## PRVA REGISTRACIJA (starost avtomobila)\n",
    " \n",
    "Starejša vozla bodo imela verjetno nižje cene in več prevoženih kilometrov. Če to res drži se lahko prepričamo z naslednjim izračunom."
   ]
  },
  {
   "cell_type": "code",
   "execution_count": 16,
   "metadata": {},
   "outputs": [
    {
     "data": {
      "text/plain": [
       "<matplotlib.axes._subplots.AxesSubplot at 0x1137f5c88>"
      ]
     },
     "execution_count": 16,
     "metadata": {},
     "output_type": "execute_result"
    },
    {
     "data": {
      "image/png": "[encoded data removed]",
      "text/plain": [
       "<matplotlib.figure.Figure at 0x1137f54a8>"
      ]
     },
     "metadata": {},
     "output_type": "display_data"
    }
   ],
   "source": [
    "audiji.groupby('Prva registracija').mean()['Cena'].plot()"
   ]
  },
  {
   "cell_type": "raw",
   "metadata": {},
   "source": [
    "audiji['Prva registracija'].sort_values().head(2)\n"
   ]
  },
  {
   "cell_type": "markdown",
   "metadata": {},
   "source": [
    "Avto, ki je starejši od 30 let, velja za \"oldtaimerja\". Na tej spletni strani se zato ne prodaja noben \"oldtimer\"."
   ]
  },
  {
   "cell_type": "code",
   "execution_count": 11,
   "metadata": {
    "collapsed": true
   },
   "outputs": [],
   "source": [
    "audiji['petletka'] = 5 * (audiji['Prva registracija'] // 5)"
   ]
  },
  {
   "cell_type": "code",
   "execution_count": 12,
   "metadata": {},
   "outputs": [
    {
     "data": {
      "text/html": [
       "<div>\n",
       "<style>\n",
       "    .dataframe thead tr:only-child th {\n",
       "        text-align: right;\n",
       "    }\n",
       "\n",
       "    .dataframe thead th {\n",
       "        text-align: left;\n",
       "    }\n",
       "\n",
       "    .dataframe tbody tr th {\n",
       "        vertical-align: top;\n",
       "    }\n",
       "</style>\n",
       "<table border=\"1\" class=\"dataframe\">\n",
       "  <thead>\n",
       "    <tr style=\"text-align: right;\">\n",
       "      <th></th>\n",
       "      <th>Prva registracija</th>\n",
       "      <th>Cena</th>\n",
       "      <th>Unnamed: 6</th>\n",
       "    </tr>\n",
       "    <tr>\n",
       "      <th>petletka</th>\n",
       "      <th></th>\n",
       "      <th></th>\n",
       "      <th></th>\n",
       "    </tr>\n",
       "  </thead>\n",
       "  <tbody>\n",
       "    <tr>\n",
       "      <th>1995</th>\n",
       "      <td>1997.990099</td>\n",
       "      <td>1.485644</td>\n",
       "      <td>NaN</td>\n",
       "    </tr>\n",
       "    <tr>\n",
       "      <th>2000</th>\n",
       "      <td>2002.090909</td>\n",
       "      <td>2.608182</td>\n",
       "      <td>NaN</td>\n",
       "    </tr>\n",
       "    <tr>\n",
       "      <th>2005</th>\n",
       "      <td>2006.647059</td>\n",
       "      <td>7.567118</td>\n",
       "      <td>NaN</td>\n",
       "    </tr>\n",
       "    <tr>\n",
       "      <th>2010</th>\n",
       "      <td>2011.928571</td>\n",
       "      <td>16.395571</td>\n",
       "      <td>NaN</td>\n",
       "    </tr>\n",
       "  </tbody>\n",
       "</table>\n",
       "</div>"
      ],
      "text/plain": [
       "          Prva registracija       Cena  Unnamed: 6\n",
       "petletka                                          \n",
       "1995            1997.990099   1.485644         NaN\n",
       "2000            2002.090909   2.608182         NaN\n",
       "2005            2006.647059   7.567118         NaN\n",
       "2010            2011.928571  16.395571         NaN"
      ]
     },
     "execution_count": 12,
     "metadata": {},
     "output_type": "execute_result"
    }
   ],
   "source": [
    "audiji.groupby('petletka').mean()"
   ]
  },
  {
   "cell_type": "code",
   "execution_count": 13,
   "metadata": {},
   "outputs": [
    {
     "data": {
      "text/html": [
       "<div>\n",
       "<style>\n",
       "    .dataframe thead tr:only-child th {\n",
       "        text-align: right;\n",
       "    }\n",
       "\n",
       "    .dataframe thead th {\n",
       "        text-align: left;\n",
       "    }\n",
       "\n",
       "    .dataframe tbody tr th {\n",
       "        vertical-align: top;\n",
       "    }\n",
       "</style>\n",
       "<table border=\"1\" class=\"dataframe\">\n",
       "  <thead>\n",
       "    <tr style=\"text-align: right;\">\n",
       "      <th></th>\n",
       "      <th>Ime</th>\n",
       "      <th>Prva registracija</th>\n",
       "      <th>Prevozeni km</th>\n",
       "      <th>Tip motorja</th>\n",
       "      <th>Cena</th>\n",
       "      <th>Unnamed: 6</th>\n",
       "      <th>petletka</th>\n",
       "    </tr>\n",
       "    <tr>\n",
       "      <th>Indeks</th>\n",
       "      <th></th>\n",
       "      <th></th>\n",
       "      <th></th>\n",
       "      <th></th>\n",
       "      <th></th>\n",
       "      <th></th>\n",
       "      <th></th>\n",
       "    </tr>\n",
       "  </thead>\n",
       "  <tbody>\n",
       "    <tr>\n",
       "      <th>12794597</th>\n",
       "      <td>b'Audi A6 Avant 2.0 TDI-SERVISNA.LED.PDC.M...'</td>\n",
       "      <td>2013</td>\n",
       "      <td>69000 km</td>\n",
       "      <td>diesel motor</td>\n",
       "      <td>26.89</td>\n",
       "      <td>NaN</td>\n",
       "      <td>2010</td>\n",
       "    </tr>\n",
       "    <tr>\n",
       "      <th>12794597</th>\n",
       "      <td>b'Audi A6 Avant 2.0 TDI-SERVISNA.LED.PDC.M...'</td>\n",
       "      <td>2013</td>\n",
       "      <td>69000 km</td>\n",
       "      <td>diesel motor</td>\n",
       "      <td>26.89</td>\n",
       "      <td>NaN</td>\n",
       "      <td>2010</td>\n",
       "    </tr>\n",
       "    <tr>\n",
       "      <th>12794597</th>\n",
       "      <td>b'Audi A6 Avant 2.0 TDI-SERVISNA.LED.PDC.M...'</td>\n",
       "      <td>2013</td>\n",
       "      <td>69000 km</td>\n",
       "      <td>diesel motor</td>\n",
       "      <td>26.89</td>\n",
       "      <td>NaN</td>\n",
       "      <td>2010</td>\n",
       "    </tr>\n",
       "    <tr>\n",
       "      <th>12794597</th>\n",
       "      <td>b'Audi A6 Avant 2.0 TDI-SERVISNA.LED.PDC.M...'</td>\n",
       "      <td>2013</td>\n",
       "      <td>69000 km</td>\n",
       "      <td>diesel motor</td>\n",
       "      <td>26.89</td>\n",
       "      <td>NaN</td>\n",
       "      <td>2010</td>\n",
       "    </tr>\n",
       "    <tr>\n",
       "      <th>...</th>\n",
       "      <td>...</td>\n",
       "      <td>...</td>\n",
       "      <td>...</td>\n",
       "      <td>...</td>\n",
       "      <td>...</td>\n",
       "      <td>...</td>\n",
       "      <td>...</td>\n",
       "    </tr>\n",
       "    <tr>\n",
       "      <th>12794597</th>\n",
       "      <td>b'Audi A6 Avant 2.0 TDI-SERVISNA.LED.PDC.M...'</td>\n",
       "      <td>2013</td>\n",
       "      <td>69000 km</td>\n",
       "      <td>diesel motor</td>\n",
       "      <td>26.89</td>\n",
       "      <td>NaN</td>\n",
       "      <td>2010</td>\n",
       "    </tr>\n",
       "    <tr>\n",
       "      <th>12794597</th>\n",
       "      <td>b'Audi A6 Avant 2.0 TDI-SERVISNA.LED.PDC.M...'</td>\n",
       "      <td>2013</td>\n",
       "      <td>69000 km</td>\n",
       "      <td>diesel motor</td>\n",
       "      <td>26.89</td>\n",
       "      <td>NaN</td>\n",
       "      <td>2010</td>\n",
       "    </tr>\n",
       "    <tr>\n",
       "      <th>12794597</th>\n",
       "      <td>b'Audi A6 Avant 2.0 TDI-SERVISNA.LED.PDC.M...'</td>\n",
       "      <td>2013</td>\n",
       "      <td>69000 km</td>\n",
       "      <td>diesel motor</td>\n",
       "      <td>26.89</td>\n",
       "      <td>NaN</td>\n",
       "      <td>2010</td>\n",
       "    </tr>\n",
       "    <tr>\n",
       "      <th>12794597</th>\n",
       "      <td>b'Audi A6 Avant 2.0 TDI-SERVISNA.LED.PDC.M...'</td>\n",
       "      <td>2013</td>\n",
       "      <td>69000 km</td>\n",
       "      <td>diesel motor</td>\n",
       "      <td>26.89</td>\n",
       "      <td>NaN</td>\n",
       "      <td>2010</td>\n",
       "    </tr>\n",
       "  </tbody>\n",
       "</table>\n",
       "<p>10 rows × 7 columns</p>\n",
       "</div>"
      ],
      "text/plain": [
       "                                                     Ime  Prva registracija  \\\n",
       "Indeks                                                                        \n",
       "12794597  b'Audi A6 Avant 2.0 TDI-SERVISNA.LED.PDC.M...'               2013   \n",
       "12794597  b'Audi A6 Avant 2.0 TDI-SERVISNA.LED.PDC.M...'               2013   \n",
       "12794597  b'Audi A6 Avant 2.0 TDI-SERVISNA.LED.PDC.M...'               2013   \n",
       "12794597  b'Audi A6 Avant 2.0 TDI-SERVISNA.LED.PDC.M...'               2013   \n",
       "...                                                  ...                ...   \n",
       "12794597  b'Audi A6 Avant 2.0 TDI-SERVISNA.LED.PDC.M...'               2013   \n",
       "12794597  b'Audi A6 Avant 2.0 TDI-SERVISNA.LED.PDC.M...'               2013   \n",
       "12794597  b'Audi A6 Avant 2.0 TDI-SERVISNA.LED.PDC.M...'               2013   \n",
       "12794597  b'Audi A6 Avant 2.0 TDI-SERVISNA.LED.PDC.M...'               2013   \n",
       "\n",
       "         Prevozeni km   Tip motorja   Cena  Unnamed: 6  petletka  \n",
       "Indeks                                                            \n",
       "12794597     69000 km  diesel motor  26.89         NaN      2010  \n",
       "12794597     69000 km  diesel motor  26.89         NaN      2010  \n",
       "12794597     69000 km  diesel motor  26.89         NaN      2010  \n",
       "12794597     69000 km  diesel motor  26.89         NaN      2010  \n",
       "...               ...           ...    ...         ...       ...  \n",
       "12794597     69000 km  diesel motor  26.89         NaN      2010  \n",
       "12794597     69000 km  diesel motor  26.89         NaN      2010  \n",
       "12794597     69000 km  diesel motor  26.89         NaN      2010  \n",
       "12794597     69000 km  diesel motor  26.89         NaN      2010  \n",
       "\n",
       "[10 rows x 7 columns]"
      ]
     },
     "execution_count": 13,
     "metadata": {},
     "output_type": "execute_result"
    }
   ],
   "source": [
    "audiji.sort_values('Prevozeni km').tail(10)"
   ]
  },
  {
   "cell_type": "code",
   "execution_count": 14,
   "metadata": {},
   "outputs": [
    {
     "data": {
      "text/plain": [
       "<matplotlib.axes._subplots.AxesSubplot at 0x10c387b38>"
      ]
     },
     "execution_count": 14,
     "metadata": {},
     "output_type": "execute_result"
    }
   ],
   "source": [
    "audiji.groupby('Prva registracija').mean()['Cena'].plot()"
   ]
  },
  {
   "cell_type": "code",
   "execution_count": 15,
   "metadata": {
    "collapsed": true
   },
   "outputs": [],
   "source": [
    "%matplotlib inline"
   ]
  },
  {
   "cell_type": "code",
   "execution_count": null,
   "metadata": {
    "collapsed": true
   },
   "outputs": [],
   "source": []
  },
  {
   "cell_type": "code",
   "execution_count": null,
   "metadata": {
    "collapsed": true
   },
   "outputs": [],
   "source": []
  }
 ],
 "metadata": {
  "kernelspec": {
   "display_name": "Python 3",
   "language": "python",
   "name": "python3"
  },
  "language_info": {
   "codemirror_mode": {
    "name": "ipython",
    "version": 3
   },
   "file_extension": ".py",
   "mimetype": "text/x-python",
   "name": "python",
   "nbconvert_exporter": "python",
   "pygments_lexer": "ipython3",
   "version": "3.6.2"
  }
 },
 "nbformat": 4,
 "nbformat_minor": 2
}
